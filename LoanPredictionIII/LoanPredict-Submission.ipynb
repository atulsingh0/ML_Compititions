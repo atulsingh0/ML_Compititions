{
 "cells": [
  {
   "cell_type": "code",
   "execution_count": 1,
   "metadata": {
    "collapsed": false
   },
   "outputs": [],
   "source": [
    "# import\n",
    "import pandas as pd\n",
    "import numpy as np\n",
    "from collections import defaultdict\n",
    "\n",
    "from sklearn.preprocessing import Imputer, LabelEncoder, StandardScaler\n",
    "from sklearn.feature_selection import SelectFromModel\n",
    "\n",
    "from sklearn.ensemble import RandomForestClassifier\n",
    "from sklearn.linear_model import LogisticRegression\n",
    "from sklearn.tree import DecisionTreeClassifier\n",
    "from sklearn.naive_bayes import MultinomialNB, BernoulliNB\n",
    "\n",
    "from sklearn.model_selection import train_test_split, KFold, cross_val_score\n",
    "from sklearn.metrics import accuracy_score"
   ]
  },
  {
   "cell_type": "code",
   "execution_count": 2,
   "metadata": {
    "collapsed": false
   },
   "outputs": [
    {
     "data": {
      "text/html": [
       "<div>\n",
       "<table border=\"1\" class=\"dataframe\">\n",
       "  <thead>\n",
       "    <tr style=\"text-align: right;\">\n",
       "      <th></th>\n",
       "      <th>Loan_ID</th>\n",
       "      <th>Gender</th>\n",
       "      <th>Married</th>\n",
       "      <th>Dependents</th>\n",
       "      <th>Education</th>\n",
       "      <th>Self_Employed</th>\n",
       "      <th>ApplicantIncome</th>\n",
       "      <th>CoapplicantIncome</th>\n",
       "      <th>LoanAmount</th>\n",
       "      <th>Loan_Amount_Term</th>\n",
       "      <th>Credit_History</th>\n",
       "      <th>Property_Area</th>\n",
       "      <th>Loan_Status</th>\n",
       "    </tr>\n",
       "  </thead>\n",
       "  <tbody>\n",
       "    <tr>\n",
       "      <th>0</th>\n",
       "      <td>LP001002</td>\n",
       "      <td>Male</td>\n",
       "      <td>No</td>\n",
       "      <td>0</td>\n",
       "      <td>Graduate</td>\n",
       "      <td>No</td>\n",
       "      <td>5849</td>\n",
       "      <td>0.0</td>\n",
       "      <td>NaN</td>\n",
       "      <td>360.0</td>\n",
       "      <td>1.0</td>\n",
       "      <td>Urban</td>\n",
       "      <td>Y</td>\n",
       "    </tr>\n",
       "    <tr>\n",
       "      <th>1</th>\n",
       "      <td>LP001003</td>\n",
       "      <td>Male</td>\n",
       "      <td>Yes</td>\n",
       "      <td>1</td>\n",
       "      <td>Graduate</td>\n",
       "      <td>No</td>\n",
       "      <td>4583</td>\n",
       "      <td>1508.0</td>\n",
       "      <td>128.0</td>\n",
       "      <td>360.0</td>\n",
       "      <td>1.0</td>\n",
       "      <td>Rural</td>\n",
       "      <td>N</td>\n",
       "    </tr>\n",
       "    <tr>\n",
       "      <th>2</th>\n",
       "      <td>LP001005</td>\n",
       "      <td>Male</td>\n",
       "      <td>Yes</td>\n",
       "      <td>0</td>\n",
       "      <td>Graduate</td>\n",
       "      <td>Yes</td>\n",
       "      <td>3000</td>\n",
       "      <td>0.0</td>\n",
       "      <td>66.0</td>\n",
       "      <td>360.0</td>\n",
       "      <td>1.0</td>\n",
       "      <td>Urban</td>\n",
       "      <td>Y</td>\n",
       "    </tr>\n",
       "    <tr>\n",
       "      <th>3</th>\n",
       "      <td>LP001006</td>\n",
       "      <td>Male</td>\n",
       "      <td>Yes</td>\n",
       "      <td>0</td>\n",
       "      <td>Not Graduate</td>\n",
       "      <td>No</td>\n",
       "      <td>2583</td>\n",
       "      <td>2358.0</td>\n",
       "      <td>120.0</td>\n",
       "      <td>360.0</td>\n",
       "      <td>1.0</td>\n",
       "      <td>Urban</td>\n",
       "      <td>Y</td>\n",
       "    </tr>\n",
       "  </tbody>\n",
       "</table>\n",
       "</div>"
      ],
      "text/plain": [
       "    Loan_ID Gender Married Dependents     Education Self_Employed  \\\n",
       "0  LP001002   Male      No          0      Graduate            No   \n",
       "1  LP001003   Male     Yes          1      Graduate            No   \n",
       "2  LP001005   Male     Yes          0      Graduate           Yes   \n",
       "3  LP001006   Male     Yes          0  Not Graduate            No   \n",
       "\n",
       "   ApplicantIncome  CoapplicantIncome  LoanAmount  Loan_Amount_Term  \\\n",
       "0             5849                0.0         NaN             360.0   \n",
       "1             4583             1508.0       128.0             360.0   \n",
       "2             3000                0.0        66.0             360.0   \n",
       "3             2583             2358.0       120.0             360.0   \n",
       "\n",
       "   Credit_History Property_Area Loan_Status  \n",
       "0             1.0         Urban           Y  \n",
       "1             1.0         Rural           N  \n",
       "2             1.0         Urban           Y  \n",
       "3             1.0         Urban           Y  "
      ]
     },
     "execution_count": 2,
     "metadata": {},
     "output_type": "execute_result"
    }
   ],
   "source": [
    "# reading the data\n",
    "data = pd.read_csv(\"train.csv\")\n",
    "data[:4]"
   ]
  },
  {
   "cell_type": "code",
   "execution_count": 3,
   "metadata": {
    "collapsed": true
   },
   "outputs": [],
   "source": [
    "#let's remove all the rows which is having nulls\n",
    "# train = train[~train.isnull()]\n",
    "data = data.dropna()"
   ]
  },
  {
   "cell_type": "code",
   "execution_count": 4,
   "metadata": {
    "collapsed": false
   },
   "outputs": [
    {
     "name": "stdout",
     "output_type": "stream",
     "text": [
      "['Female' 'Male']\n",
      "['No' 'Yes']\n",
      "['Graduate' 'Not Graduate']\n",
      "['0' '1' '2' '3+']\n",
      "['No' 'Yes']\n",
      "['Rural' 'Semiurban' 'Urban']\n"
     ]
    }
   ],
   "source": [
    "enc = dict()\n",
    "\n",
    "# Encoding the variable\n",
    "for x in ['Gender', 'Married', 'Education', 'Dependents', 'Self_Employed', 'Property_Area']:\n",
    "    enc[x]=LabelEncoder()\n",
    "    enc[x].fit(data[x])\n",
    "    print(enc[x].classes_)\n",
    "    data[x]=enc[x].transform(data[x])\n",
    "#print(enc)\n",
    "\n",
    "#fit = data.apply(lambda x: d[x.name].fit_transform(x))\n",
    "\n",
    "# Inverse the encoded\n",
    "#fit.apply(lambda x: d[x.name].inverse_transform(x))\n",
    "\n",
    "# Using the dictionary to label future data\n",
    "#data.apply(lambda x: d[x.name].transform(x))"
   ]
  },
  {
   "cell_type": "code",
   "execution_count": 5,
   "metadata": {
    "collapsed": true
   },
   "outputs": [],
   "source": [
    "data_id = data.iloc[:, 0]"
   ]
  },
  {
   "cell_type": "code",
   "execution_count": 6,
   "metadata": {
    "collapsed": false
   },
   "outputs": [],
   "source": [
    "# scaling the data\n",
    "sc = StandardScaler()\n",
    "data.iloc[:,1:-1] = sc.fit_transform(data.iloc[:,1:-1])"
   ]
  },
  {
   "cell_type": "code",
   "execution_count": 7,
   "metadata": {
    "collapsed": false
   },
   "outputs": [
    {
     "name": "stdout",
     "output_type": "stream",
     "text": [
      "     Gender   Married  Dependents  Education  Self_Employed  ApplicantIncome  \\\n",
      "1  0.467198  0.737162    0.218599  -0.503253      -0.399275        -0.137970   \n",
      "2  0.467198  0.737162   -0.762033  -0.503253       2.504541        -0.417536   \n",
      "\n",
      "   CoapplicantIncome  LoanAmount  Loan_Amount_Term  Credit_History  \\\n",
      "1          -0.027952   -0.208089          0.275542        0.413197   \n",
      "2          -0.604633   -0.979001          0.275542        0.413197   \n",
      "\n",
      "   Property_Area  \n",
      "1      -1.318868  \n",
      "2       1.259774  \n",
      "1    N\n",
      "2    Y\n",
      "Name: Loan_Status, dtype: object\n"
     ]
    }
   ],
   "source": [
    "# Splitting the data into X and y\n",
    "X = data.iloc[:, 1:-1]\n",
    "y = data.iloc[:, -1]\n",
    "\n",
    "print(X[:2])\n",
    "print(y[:2])"
   ]
  },
  {
   "cell_type": "code",
   "execution_count": 8,
   "metadata": {
    "collapsed": false
   },
   "outputs": [],
   "source": [
    "# Split the data into 25% test and 75% training\n",
    "X_train, X_test, y_train, y_test = train_test_split(X, y, test_size=0.25, random_state=0)"
   ]
  },
  {
   "cell_type": "markdown",
   "metadata": {},
   "source": [
    "** Implementing RandomForestClassifier **"
   ]
  },
  {
   "cell_type": "code",
   "execution_count": 9,
   "metadata": {
    "collapsed": false
   },
   "outputs": [
    {
     "data": {
      "text/plain": [
       "RandomForestClassifier(bootstrap=True, class_weight=None, criterion='gini',\n",
       "            max_depth=None, max_features='auto', max_leaf_nodes=None,\n",
       "            min_impurity_split=1e-07, min_samples_leaf=1,\n",
       "            min_samples_split=2, min_weight_fraction_leaf=0.0,\n",
       "            n_estimators=10000, n_jobs=-1, oob_score=False, random_state=0,\n",
       "            verbose=0, warm_start=False)"
      ]
     },
     "execution_count": 9,
     "metadata": {},
     "output_type": "execute_result"
    }
   ],
   "source": [
    "# Create a random forest classifier\n",
    "clf = RandomForestClassifier(n_estimators=10000, random_state=0, n_jobs=-1)\n",
    "\n",
    "# Train the classifier\n",
    "clf.fit(X_train, y_train)"
   ]
  },
  {
   "cell_type": "code",
   "execution_count": 10,
   "metadata": {
    "collapsed": false
   },
   "outputs": [
    {
     "name": "stdout",
     "output_type": "stream",
     "text": [
      "('Gender', 0.021641038906192175)\n",
      "('Married', 0.029685146387984803)\n",
      "('Dependents', 0.049374880515425511)\n",
      "('Education', 0.021661303118526379)\n",
      "('Self_Employed', 0.020061592095794289)\n",
      "('ApplicantIncome', 0.20259018981388396)\n",
      "('CoapplicantIncome', 0.11398999775876162)\n",
      "('LoanAmount', 0.20349136926820866)\n",
      "('Loan_Amount_Term', 0.044481963103573892)\n",
      "('Credit_History', 0.24249326406846211)\n",
      "('Property_Area', 0.050529254963187553)\n"
     ]
    }
   ],
   "source": [
    "# Print the name and gini importance of each feature\n",
    "for feature in zip(X_train.columns, clf.feature_importances_):\n",
    "    print(feature)"
   ]
  },
  {
   "cell_type": "code",
   "execution_count": 11,
   "metadata": {
    "collapsed": true
   },
   "outputs": [],
   "source": [
    "# Create a selector object that will use the random forest classifier to identify\n",
    "# features that have an importance of more than 0.01\n",
    "sfm = SelectFromModel(clf, threshold=0.02)"
   ]
  },
  {
   "cell_type": "code",
   "execution_count": 12,
   "metadata": {
    "collapsed": false
   },
   "outputs": [
    {
     "name": "stdout",
     "output_type": "stream",
     "text": [
      "Gender\n",
      "Married\n",
      "Dependents\n",
      "Education\n",
      "Self_Employed\n",
      "ApplicantIncome\n",
      "CoapplicantIncome\n",
      "LoanAmount\n",
      "Loan_Amount_Term\n",
      "Credit_History\n",
      "Property_Area\n"
     ]
    }
   ],
   "source": [
    "sfm.fit(X_train, y_train)\n",
    "\n",
    "# Print the names of the most important features\n",
    "for feature_list_index in sfm.get_support(indices=True):\n",
    "    print(X_train.columns[feature_list_index])"
   ]
  },
  {
   "cell_type": "code",
   "execution_count": 13,
   "metadata": {
    "collapsed": true
   },
   "outputs": [],
   "source": [
    "# Transform the data to create a new dataset containing only the most important features\n",
    "# Note: We have to apply the transform to both the training X and test X data.\n",
    "X_important_train = sfm.transform(X_train)\n",
    "X_important_test = sfm.transform(X_test)"
   ]
  },
  {
   "cell_type": "code",
   "execution_count": 14,
   "metadata": {
    "collapsed": false
   },
   "outputs": [
    {
     "data": {
      "text/plain": [
       "RandomForestClassifier(bootstrap=True, class_weight=None, criterion='gini',\n",
       "            max_depth=None, max_features='auto', max_leaf_nodes=None,\n",
       "            min_impurity_split=1e-07, min_samples_leaf=1,\n",
       "            min_samples_split=2, min_weight_fraction_leaf=0.0,\n",
       "            n_estimators=10000, n_jobs=-1, oob_score=False, random_state=0,\n",
       "            verbose=0, warm_start=False)"
      ]
     },
     "execution_count": 14,
     "metadata": {},
     "output_type": "execute_result"
    }
   ],
   "source": [
    "# Create a new random forest classifier for the most important features\n",
    "clf_important = RandomForestClassifier(n_estimators=10000, random_state=0, n_jobs=-1)\n",
    "\n",
    "# Train the new classifier on the new dataset containing the most important features\n",
    "clf_important.fit(X_important_train, y_train)"
   ]
  },
  {
   "cell_type": "code",
   "execution_count": 15,
   "metadata": {
    "collapsed": false
   },
   "outputs": [
    {
     "data": {
      "text/plain": [
       "0.77500000000000002"
      ]
     },
     "execution_count": 15,
     "metadata": {},
     "output_type": "execute_result"
    }
   ],
   "source": [
    "# Apply The Full Featured Classifier To The Test Data\n",
    "y_pred = clf.predict(X_test)\n",
    "\n",
    "# View The Accuracy Of Our Full Feature Model\n",
    "accuracy_score(y_test, y_pred)"
   ]
  },
  {
   "cell_type": "code",
   "execution_count": 16,
   "metadata": {
    "collapsed": false
   },
   "outputs": [
    {
     "data": {
      "text/plain": [
       "0.77500000000000002"
      ]
     },
     "execution_count": 16,
     "metadata": {},
     "output_type": "execute_result"
    }
   ],
   "source": [
    "# Apply The Full Featured Classifier To The Test Data\n",
    "y_important_pred = clf_important.predict(X_important_test)\n",
    "\n",
    "# View The Accuracy Of Our Limited Feature  Model\n",
    "accuracy_score(y_test, y_important_pred)"
   ]
  },
  {
   "cell_type": "markdown",
   "metadata": {},
   "source": [
    "As we can see there is no improvement after selecting some features from the given dataset  \n",
    "** Implementing Logistic Regression **"
   ]
  },
  {
   "cell_type": "code",
   "execution_count": 17,
   "metadata": {
    "collapsed": false
   },
   "outputs": [
    {
     "data": {
      "text/plain": [
       "LogisticRegression(C=1.0, class_weight=None, dual=False, fit_intercept=True,\n",
       "          intercept_scaling=1, max_iter=100, multi_class='ovr', n_jobs=1,\n",
       "          penalty='l2', random_state=None, solver='liblinear', tol=0.0001,\n",
       "          verbose=0, warm_start=False)"
      ]
     },
     "execution_count": 17,
     "metadata": {},
     "output_type": "execute_result"
    }
   ],
   "source": [
    "clf2 = LogisticRegression()\n",
    "\n",
    "clf2.fit(X_train, y_train)"
   ]
  },
  {
   "cell_type": "code",
   "execution_count": 18,
   "metadata": {
    "collapsed": false
   },
   "outputs": [
    {
     "data": {
      "text/plain": [
       "0.77500000000000002"
      ]
     },
     "execution_count": 18,
     "metadata": {},
     "output_type": "execute_result"
    }
   ],
   "source": [
    "y2_pred = clf2.predict(X_test)\n",
    "\n",
    "accuracy_score(y_test, y2_pred)"
   ]
  },
  {
   "cell_type": "markdown",
   "metadata": {},
   "source": [
    "** Implementing LogisticRegression with KFold **"
   ]
  },
  {
   "cell_type": "code",
   "execution_count": 19,
   "metadata": {
    "collapsed": false
   },
   "outputs": [
    {
     "name": "stdout",
     "output_type": "stream",
     "text": [
      "[ 0.79166667  0.77777778  0.84722222  0.84722222  0.80555556]\n",
      "0.813888888889\n"
     ]
    }
   ],
   "source": [
    "kf = KFold(n_splits=5)\n",
    "scores = cross_val_score(X=X_train, y=y_train, cv=kf, estimator=clf2, n_jobs=1)\n",
    "print(scores)\n",
    "print(np.mean(scores))"
   ]
  },
  {
   "cell_type": "markdown",
   "metadata": {},
   "source": [
    "** Implementing DecisionTreeClassifier **"
   ]
  },
  {
   "cell_type": "code",
   "execution_count": 20,
   "metadata": {
    "collapsed": false
   },
   "outputs": [
    {
     "data": {
      "text/plain": [
       "0.68333333333333335"
      ]
     },
     "execution_count": 20,
     "metadata": {},
     "output_type": "execute_result"
    }
   ],
   "source": [
    "clf3 = DecisionTreeClassifier()\n",
    "\n",
    "clf3.fit(X_train, y_train)\n",
    "\n",
    "y3_pred = clf3.predict(X_test)\n",
    "\n",
    "accuracy_score(y_test, y3_pred)"
   ]
  },
  {
   "cell_type": "code",
   "execution_count": 21,
   "metadata": {
    "collapsed": false
   },
   "outputs": [
    {
     "data": {
      "text/plain": [
       "0.68333333333333335"
      ]
     },
     "execution_count": 21,
     "metadata": {},
     "output_type": "execute_result"
    }
   ],
   "source": [
    "clf4 = BernoulliNB()\n",
    "\n",
    "clf4.fit(X_train, y_train)\n",
    "\n",
    "y4_pred = clf3.predict(X_test)\n",
    "\n",
    "accuracy_score(y_test, y4_pred)"
   ]
  },
  {
   "cell_type": "code",
   "execution_count": 22,
   "metadata": {
    "collapsed": false
   },
   "outputs": [
    {
     "name": "stdout",
     "output_type": "stream",
     "text": [
      "[ 0.76388889  0.73611111  0.77777778  0.63888889  0.65277778]\n",
      "0.713888888889\n"
     ]
    }
   ],
   "source": [
    "kf = KFold(n_splits=5)\n",
    "scores = cross_val_score(X=X_train, y=y_train, cv=kf, estimator=clf3, n_jobs=1)\n",
    "print(scores)\n",
    "print(np.mean(scores))"
   ]
  },
  {
   "cell_type": "code",
   "execution_count": 23,
   "metadata": {
    "collapsed": false
   },
   "outputs": [
    {
     "data": {
      "text/html": [
       "<div>\n",
       "<table border=\"1\" class=\"dataframe\">\n",
       "  <thead>\n",
       "    <tr style=\"text-align: right;\">\n",
       "      <th></th>\n",
       "      <th>Loan_ID</th>\n",
       "      <th>Gender</th>\n",
       "      <th>Married</th>\n",
       "      <th>Dependents</th>\n",
       "      <th>Education</th>\n",
       "      <th>Self_Employed</th>\n",
       "      <th>ApplicantIncome</th>\n",
       "      <th>CoapplicantIncome</th>\n",
       "      <th>LoanAmount</th>\n",
       "      <th>Loan_Amount_Term</th>\n",
       "      <th>Credit_History</th>\n",
       "      <th>Property_Area</th>\n",
       "    </tr>\n",
       "  </thead>\n",
       "  <tbody>\n",
       "    <tr>\n",
       "      <th>0</th>\n",
       "      <td>LP001015</td>\n",
       "      <td>Male</td>\n",
       "      <td>Yes</td>\n",
       "      <td>0</td>\n",
       "      <td>Graduate</td>\n",
       "      <td>No</td>\n",
       "      <td>5720</td>\n",
       "      <td>0</td>\n",
       "      <td>110.0</td>\n",
       "      <td>360.0</td>\n",
       "      <td>1.0</td>\n",
       "      <td>Urban</td>\n",
       "    </tr>\n",
       "    <tr>\n",
       "      <th>1</th>\n",
       "      <td>LP001022</td>\n",
       "      <td>Male</td>\n",
       "      <td>Yes</td>\n",
       "      <td>1</td>\n",
       "      <td>Graduate</td>\n",
       "      <td>No</td>\n",
       "      <td>3076</td>\n",
       "      <td>1500</td>\n",
       "      <td>126.0</td>\n",
       "      <td>360.0</td>\n",
       "      <td>1.0</td>\n",
       "      <td>Urban</td>\n",
       "    </tr>\n",
       "    <tr>\n",
       "      <th>2</th>\n",
       "      <td>LP001031</td>\n",
       "      <td>Male</td>\n",
       "      <td>Yes</td>\n",
       "      <td>2</td>\n",
       "      <td>Graduate</td>\n",
       "      <td>No</td>\n",
       "      <td>5000</td>\n",
       "      <td>1800</td>\n",
       "      <td>208.0</td>\n",
       "      <td>360.0</td>\n",
       "      <td>1.0</td>\n",
       "      <td>Urban</td>\n",
       "    </tr>\n",
       "    <tr>\n",
       "      <th>3</th>\n",
       "      <td>LP001035</td>\n",
       "      <td>Male</td>\n",
       "      <td>Yes</td>\n",
       "      <td>2</td>\n",
       "      <td>Graduate</td>\n",
       "      <td>No</td>\n",
       "      <td>2340</td>\n",
       "      <td>2546</td>\n",
       "      <td>100.0</td>\n",
       "      <td>360.0</td>\n",
       "      <td>NaN</td>\n",
       "      <td>Urban</td>\n",
       "    </tr>\n",
       "  </tbody>\n",
       "</table>\n",
       "</div>"
      ],
      "text/plain": [
       "    Loan_ID Gender Married Dependents Education Self_Employed  \\\n",
       "0  LP001015   Male     Yes          0  Graduate            No   \n",
       "1  LP001022   Male     Yes          1  Graduate            No   \n",
       "2  LP001031   Male     Yes          2  Graduate            No   \n",
       "3  LP001035   Male     Yes          2  Graduate            No   \n",
       "\n",
       "   ApplicantIncome  CoapplicantIncome  LoanAmount  Loan_Amount_Term  \\\n",
       "0             5720                  0       110.0             360.0   \n",
       "1             3076               1500       126.0             360.0   \n",
       "2             5000               1800       208.0             360.0   \n",
       "3             2340               2546       100.0             360.0   \n",
       "\n",
       "   Credit_History Property_Area  \n",
       "0             1.0         Urban  \n",
       "1             1.0         Urban  \n",
       "2             1.0         Urban  \n",
       "3             NaN         Urban  "
      ]
     },
     "execution_count": 23,
     "metadata": {},
     "output_type": "execute_result"
    }
   ],
   "source": [
    "test_data = pd.read_csv('test.csv')\n",
    "test_data[:4]"
   ]
  },
  {
   "cell_type": "code",
   "execution_count": 24,
   "metadata": {
    "collapsed": true
   },
   "outputs": [],
   "source": [
    "test_data = test_data.dropna()"
   ]
  },
  {
   "cell_type": "code",
   "execution_count": 25,
   "metadata": {
    "collapsed": false
   },
   "outputs": [
    {
     "name": "stdout",
     "output_type": "stream",
     "text": [
      "['Female' 'Male']\n",
      "['No' 'Yes']\n",
      "['Graduate' 'Not Graduate']\n",
      "['0' '1' '2' '3+']\n",
      "['No' 'Yes']\n",
      "['Rural' 'Semiurban' 'Urban']\n"
     ]
    }
   ],
   "source": [
    "enc = dict()\n",
    "\n",
    "# Encoding the variable\n",
    "for x in ['Gender', 'Married', 'Education', 'Dependents', 'Self_Employed', 'Property_Area']:\n",
    "    enc[x]=LabelEncoder()\n",
    "    enc[x].fit(test_data[x])\n",
    "    print(enc[x].classes_)\n",
    "    test_data[x]=enc[x].transform(test_data[x])"
   ]
  },
  {
   "cell_type": "code",
   "execution_count": 26,
   "metadata": {
    "collapsed": true
   },
   "outputs": [],
   "source": [
    "test_data_id = test_data.iloc[:, 0]\n",
    "\n",
    "# scaling the data\n",
    "sc = StandardScaler()\n",
    "test_data.iloc[:,1:-1] = sc.fit_transform(test_data.iloc[:,1:-1])\n",
    "\n",
    "# Splitting the data into X and y\n",
    "X_test = test_data.iloc[:, 1:]"
   ]
  },
  {
   "cell_type": "code",
   "execution_count": 27,
   "metadata": {
    "collapsed": false
   },
   "outputs": [],
   "source": [
    "y_test_pred = clf2.predict(X_test)"
   ]
  },
  {
   "cell_type": "code",
   "execution_count": 30,
   "metadata": {
    "collapsed": false
   },
   "outputs": [],
   "source": [
    "#y_test_pred = ['Y' if x==1 else 'N' for x in list(y_test_pred)]\n",
    "\n",
    "result = pd.DataFrame(list(zip(test_data_id, y_test_pred)))\n",
    "\n",
    "pd.DataFrame.to_csv(result, 'result.csv', index=None, header = ['Loan_ID','Loan_Status'])"
   ]
  },
  {
   "cell_type": "code",
   "execution_count": 29,
   "metadata": {
    "collapsed": false
   },
   "outputs": [
    {
     "data": {
      "text/plain": [
       "[('LP001015', 'Y'),\n",
       " ('LP001022', 'Y'),\n",
       " ('LP001031', 'Y'),\n",
       " ('LP001051', 'Y'),\n",
       " ('LP001054', 'Y'),\n",
       " ('LP001055', 'Y'),\n",
       " ('LP001056', 'N'),\n",
       " ('LP001067', 'Y'),\n",
       " ('LP001078', 'Y'),\n",
       " ('LP001096', 'Y'),\n",
       " ('LP001099', 'Y'),\n",
       " ('LP001105', 'Y'),\n",
       " ('LP001107', 'Y'),\n",
       " ('LP001108', 'Y'),\n",
       " ('LP001115', 'Y'),\n",
       " ('LP001121', 'Y'),\n",
       " ('LP001124', 'Y'),\n",
       " ('LP001135', 'Y'),\n",
       " ('LP001149', 'Y'),\n",
       " ('LP001153', 'N'),\n",
       " ('LP001169', 'Y'),\n",
       " ('LP001176', 'Y'),\n",
       " ('LP001177', 'Y'),\n",
       " ('LP001183', 'Y'),\n",
       " ('LP001185', 'Y'),\n",
       " ('LP001187', 'Y'),\n",
       " ('LP001190', 'Y'),\n",
       " ('LP001203', 'N'),\n",
       " ('LP001210', 'Y'),\n",
       " ('LP001211', 'Y'),\n",
       " ('LP001219', 'Y'),\n",
       " ('LP001220', 'Y'),\n",
       " ('LP001221', 'Y'),\n",
       " ('LP001226', 'Y'),\n",
       " ('LP001230', 'Y'),\n",
       " ('LP001231', 'Y'),\n",
       " ('LP001242', 'Y'),\n",
       " ('LP001270', 'Y'),\n",
       " ('LP001284', 'Y'),\n",
       " ('LP001291', 'Y'),\n",
       " ('LP001298', 'Y'),\n",
       " ('LP001312', 'Y'),\n",
       " ('LP001313', 'N'),\n",
       " ('LP001317', 'Y'),\n",
       " ('LP001321', 'Y'),\n",
       " ('LP001323', 'N'),\n",
       " ('LP001324', 'Y'),\n",
       " ('LP001332', 'Y'),\n",
       " ('LP001335', 'Y'),\n",
       " ('LP001338', 'Y'),\n",
       " ('LP001347', 'N'),\n",
       " ('LP001348', 'Y'),\n",
       " ('LP001351', 'Y'),\n",
       " ('LP001352', 'N'),\n",
       " ('LP001358', 'N'),\n",
       " ('LP001359', 'Y'),\n",
       " ('LP001361', 'N'),\n",
       " ('LP001368', 'Y'),\n",
       " ('LP001380', 'Y'),\n",
       " ('LP001386', 'Y'),\n",
       " ('LP001400', 'Y'),\n",
       " ('LP001407', 'Y'),\n",
       " ('LP001413', 'Y'),\n",
       " ('LP001419', 'Y'),\n",
       " ('LP001420', 'N'),\n",
       " ('LP001428', 'Y'),\n",
       " ('LP001445', 'N'),\n",
       " ('LP001446', 'Y'),\n",
       " ('LP001450', 'N'),\n",
       " ('LP001452', 'Y'),\n",
       " ('LP001455', 'Y'),\n",
       " ('LP001466', 'Y'),\n",
       " ('LP001471', 'Y'),\n",
       " ('LP001483', 'Y'),\n",
       " ('LP001486', 'Y'),\n",
       " ('LP001490', 'Y'),\n",
       " ('LP001496', 'N'),\n",
       " ('LP001499', 'Y'),\n",
       " ('LP001500', 'Y'),\n",
       " ('LP001501', 'Y'),\n",
       " ('LP001517', 'Y'),\n",
       " ('LP001534', 'Y'),\n",
       " ('LP001547', 'Y'),\n",
       " ('LP001548', 'Y'),\n",
       " ('LP001561', 'Y'),\n",
       " ('LP001567', 'Y'),\n",
       " ('LP001568', 'Y'),\n",
       " ('LP001573', 'Y'),\n",
       " ('LP001584', 'Y'),\n",
       " ('LP001589', 'Y'),\n",
       " ('LP001591', 'Y'),\n",
       " ('LP001599', 'Y'),\n",
       " ('LP001607', 'Y'),\n",
       " ('LP001613', 'N'),\n",
       " ('LP001622', 'N'),\n",
       " ('LP001627', 'Y'),\n",
       " ('LP001650', 'Y'),\n",
       " ('LP001651', 'Y'),\n",
       " ('LP001652', 'N'),\n",
       " ('LP001655', 'N'),\n",
       " ('LP001660', 'Y'),\n",
       " ('LP001662', 'N'),\n",
       " ('LP001663', 'Y'),\n",
       " ('LP001667', 'Y'),\n",
       " ('LP001703', 'Y'),\n",
       " ('LP001718', 'Y'),\n",
       " ('LP001728', 'Y'),\n",
       " ('LP001735', 'Y'),\n",
       " ('LP001737', 'Y'),\n",
       " ('LP001739', 'Y'),\n",
       " ('LP001742', 'Y'),\n",
       " ('LP001757', 'Y'),\n",
       " ('LP001785', 'N'),\n",
       " ('LP001787', 'Y'),\n",
       " ('LP001794', 'Y'),\n",
       " ('LP001797', 'Y'),\n",
       " ('LP001815', 'Y'),\n",
       " ('LP001817', 'N'),\n",
       " ('LP001818', 'Y'),\n",
       " ('LP001822', 'Y'),\n",
       " ('LP001827', 'Y'),\n",
       " ('LP001831', 'Y'),\n",
       " ('LP001842', 'Y'),\n",
       " ('LP001853', 'N'),\n",
       " ('LP001855', 'Y'),\n",
       " ('LP001857', 'Y'),\n",
       " ('LP001862', 'Y'),\n",
       " ('LP001867', 'Y'),\n",
       " ('LP001878', 'Y'),\n",
       " ('LP001881', 'Y'),\n",
       " ('LP001886', 'Y'),\n",
       " ('LP001909', 'Y'),\n",
       " ('LP001911', 'Y'),\n",
       " ('LP001923', 'N'),\n",
       " ('LP001933', 'N'),\n",
       " ('LP001943', 'Y'),\n",
       " ('LP001959', 'Y'),\n",
       " ('LP001961', 'Y'),\n",
       " ('LP001973', 'Y'),\n",
       " ('LP001975', 'Y'),\n",
       " ('LP001979', 'N'),\n",
       " ('LP001995', 'N'),\n",
       " ('LP002007', 'Y'),\n",
       " ('LP002016', 'Y'),\n",
       " ('LP002018', 'Y'),\n",
       " ('LP002027', 'Y'),\n",
       " ('LP002028', 'Y'),\n",
       " ('LP002042', 'Y'),\n",
       " ('LP002047', 'Y'),\n",
       " ('LP002056', 'Y'),\n",
       " ('LP002059', 'Y'),\n",
       " ('LP002062', 'Y'),\n",
       " ('LP002064', 'Y'),\n",
       " ('LP002070', 'N'),\n",
       " ('LP002077', 'Y'),\n",
       " ('LP002083', 'Y'),\n",
       " ('LP002090', 'N'),\n",
       " ('LP002096', 'Y'),\n",
       " ('LP002099', 'N'),\n",
       " ('LP002102', 'Y'),\n",
       " ('LP002105', 'Y'),\n",
       " ('LP002107', 'Y'),\n",
       " ('LP002117', 'Y'),\n",
       " ('LP002118', 'Y'),\n",
       " ('LP002123', 'Y'),\n",
       " ('LP002125', 'Y'),\n",
       " ('LP002148', 'Y'),\n",
       " ('LP002152', 'Y'),\n",
       " ('LP002167', 'Y'),\n",
       " ('LP002168', 'N'),\n",
       " ('LP002172', 'Y'),\n",
       " ('LP002176', 'Y'),\n",
       " ('LP002184', 'Y'),\n",
       " ('LP002186', 'Y'),\n",
       " ('LP002192', 'Y'),\n",
       " ('LP002195', 'Y'),\n",
       " ('LP002208', 'Y'),\n",
       " ('LP002240', 'Y'),\n",
       " ('LP002245', 'Y'),\n",
       " ('LP002253', 'Y'),\n",
       " ('LP002256', 'N'),\n",
       " ('LP002257', 'Y'),\n",
       " ('LP002264', 'Y'),\n",
       " ('LP002270', 'Y'),\n",
       " ('LP002279', 'Y'),\n",
       " ('LP002286', 'N'),\n",
       " ('LP002294', 'Y'),\n",
       " ('LP002306', 'Y'),\n",
       " ('LP002310', 'Y'),\n",
       " ('LP002311', 'Y'),\n",
       " ('LP002316', 'N'),\n",
       " ('LP002321', 'N'),\n",
       " ('LP002325', 'Y'),\n",
       " ('LP002326', 'Y'),\n",
       " ('LP002329', 'Y'),\n",
       " ('LP002333', 'Y'),\n",
       " ('LP002339', 'N'),\n",
       " ('LP002344', 'Y'),\n",
       " ('LP002354', 'Y'),\n",
       " ('LP002358', 'Y'),\n",
       " ('LP002375', 'Y'),\n",
       " ('LP002376', 'Y'),\n",
       " ('LP002383', 'N'),\n",
       " ('LP002389', 'Y'),\n",
       " ('LP002394', 'Y'),\n",
       " ('LP002397', 'Y'),\n",
       " ('LP002400', 'Y'),\n",
       " ('LP002402', 'Y'),\n",
       " ('LP002412', 'Y'),\n",
       " ('LP002417', 'Y'),\n",
       " ('LP002420', 'Y'),\n",
       " ('LP002433', 'Y'),\n",
       " ('LP002440', 'Y'),\n",
       " ('LP002442', 'N'),\n",
       " ('LP002445', 'Y'),\n",
       " ('LP002450', 'N'),\n",
       " ('LP002471', 'Y'),\n",
       " ('LP002476', 'Y'),\n",
       " ('LP002482', 'Y'),\n",
       " ('LP002485', 'Y'),\n",
       " ('LP002495', 'N'),\n",
       " ('LP002496', 'N'),\n",
       " ('LP002523', 'Y'),\n",
       " ('LP002550', 'Y'),\n",
       " ('LP002554', 'Y'),\n",
       " ('LP002561', 'Y'),\n",
       " ('LP002568', 'Y'),\n",
       " ('LP002570', 'Y'),\n",
       " ('LP002592', 'Y'),\n",
       " ('LP002599', 'Y'),\n",
       " ('LP002604', 'Y'),\n",
       " ('LP002605', 'Y'),\n",
       " ('LP002609', 'N'),\n",
       " ('LP002612', 'Y'),\n",
       " ('LP002635', 'Y'),\n",
       " ('LP002639', 'Y'),\n",
       " ('LP002644', 'Y'),\n",
       " ('LP002711', 'Y'),\n",
       " ('LP002721', 'Y'),\n",
       " ('LP002735', 'Y'),\n",
       " ('LP002744', 'Y'),\n",
       " ('LP002745', 'Y'),\n",
       " ('LP002746', 'Y'),\n",
       " ('LP002747', 'N'),\n",
       " ('LP002759', 'Y'),\n",
       " ('LP002760', 'Y'),\n",
       " ('LP002766', 'Y'),\n",
       " ('LP002769', 'Y'),\n",
       " ('LP002774', 'N'),\n",
       " ('LP002781', 'Y'),\n",
       " ('LP002782', 'Y'),\n",
       " ('LP002786', 'Y'),\n",
       " ('LP002790', 'Y'),\n",
       " ('LP002793', 'Y'),\n",
       " ('LP002802', 'N'),\n",
       " ('LP002805', 'Y'),\n",
       " ('LP002806', 'Y'),\n",
       " ('LP002823', 'Y'),\n",
       " ('LP002825', 'Y'),\n",
       " ('LP002826', 'Y'),\n",
       " ('LP002843', 'Y'),\n",
       " ('LP002849', 'Y'),\n",
       " ('LP002850', 'Y'),\n",
       " ('LP002856', 'Y'),\n",
       " ('LP002857', 'Y'),\n",
       " ('LP002858', 'N'),\n",
       " ('LP002860', 'Y'),\n",
       " ('LP002867', 'Y'),\n",
       " ('LP002869', 'Y'),\n",
       " ('LP002870', 'Y'),\n",
       " ('LP002876', 'Y'),\n",
       " ('LP002878', 'Y'),\n",
       " ('LP002879', 'N'),\n",
       " ('LP002885', 'Y'),\n",
       " ('LP002890', 'Y'),\n",
       " ('LP002891', 'Y'),\n",
       " ('LP002899', 'Y'),\n",
       " ('LP002907', 'Y'),\n",
       " ('LP002920', 'Y'),\n",
       " ('LP002921', 'N'),\n",
       " ('LP002932', 'Y'),\n",
       " ('LP002935', 'Y'),\n",
       " ('LP002952', 'Y'),\n",
       " ('LP002962', 'Y'),\n",
       " ('LP002969', 'Y'),\n",
       " ('LP002971', 'Y'),\n",
       " ('LP002975', 'Y'),\n",
       " ('LP002986', 'Y'),\n",
       " ('LP002989', 'Y')]"
      ]
     },
     "execution_count": 29,
     "metadata": {},
     "output_type": "execute_result"
    }
   ],
   "source": [
    "list(zip(test_data_id, y_test_pred))"
   ]
  },
  {
   "cell_type": "code",
   "execution_count": null,
   "metadata": {
    "collapsed": true
   },
   "outputs": [],
   "source": []
  }
 ],
 "metadata": {
  "anaconda-cloud": {},
  "kernelspec": {
   "display_name": "Python [conda root]",
   "language": "python",
   "name": "conda-root-py"
  },
  "language_info": {
   "codemirror_mode": {
    "name": "ipython",
    "version": 3
   },
   "file_extension": ".py",
   "mimetype": "text/x-python",
   "name": "python",
   "nbconvert_exporter": "python",
   "pygments_lexer": "ipython3",
   "version": "3.5.2"
  }
 },
 "nbformat": 4,
 "nbformat_minor": 1
}
