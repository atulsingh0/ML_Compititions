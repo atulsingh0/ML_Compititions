{
 "cells": [
  {
   "cell_type": "code",
   "execution_count": 1,
   "metadata": {
    "collapsed": false
   },
   "outputs": [],
   "source": [
    "# import \n",
    "import pandas as pd\n",
    "import numpy as np\n",
    "\n",
    "from sklearn.naive_bayes import BernoulliNB\n",
    "from sklearn.ensemble import RandomForestClassifier\n",
    "from sklearn.ensemble import AdaBoostClassifier\n",
    "from sklearn.svm import SVC\n",
    "\n",
    "from sklearn.model_selection import KFold, cross_val_predict, cross_val_score\n",
    "from sklearn.metrics import accuracy_score, precision_score, recall_score"
   ]
  },
  {
   "cell_type": "code",
   "execution_count": 2,
   "metadata": {
    "collapsed": true
   },
   "outputs": [],
   "source": [
    "# importing the data\n",
    "data = pd.read_csv(\"data/dataset.csv\", header=None, delimiter=' ')"
   ]
  },
  {
   "cell_type": "code",
   "execution_count": 3,
   "metadata": {
    "collapsed": false
   },
   "outputs": [
    {
     "data": {
      "text/html": [
       "<div>\n",
       "<table border=\"1\" class=\"dataframe\">\n",
       "  <thead>\n",
       "    <tr style=\"text-align: right;\">\n",
       "      <th></th>\n",
       "      <th>0</th>\n",
       "      <th>1</th>\n",
       "      <th>2</th>\n",
       "      <th>3</th>\n",
       "      <th>4</th>\n",
       "      <th>5</th>\n",
       "      <th>6</th>\n",
       "      <th>7</th>\n",
       "      <th>8</th>\n",
       "      <th>9</th>\n",
       "      <th>10</th>\n",
       "      <th>11</th>\n",
       "      <th>12</th>\n",
       "      <th>13</th>\n",
       "      <th>14</th>\n",
       "      <th>15</th>\n",
       "      <th>16</th>\n",
       "      <th>17</th>\n",
       "    </tr>\n",
       "  </thead>\n",
       "  <tbody>\n",
       "    <tr>\n",
       "      <th>count</th>\n",
       "      <td>120.000000</td>\n",
       "      <td>120.000000</td>\n",
       "      <td>120.000000</td>\n",
       "      <td>120.000000</td>\n",
       "      <td>120.000000</td>\n",
       "      <td>120.000000</td>\n",
       "      <td>120.000000</td>\n",
       "      <td>120.000000</td>\n",
       "      <td>120.000000</td>\n",
       "      <td>120.000000</td>\n",
       "      <td>120.000000</td>\n",
       "      <td>120.000000</td>\n",
       "      <td>120.000000</td>\n",
       "      <td>120.000000</td>\n",
       "      <td>120.000000</td>\n",
       "      <td>120.000000</td>\n",
       "      <td>120.0</td>\n",
       "      <td>120.000000</td>\n",
       "    </tr>\n",
       "    <tr>\n",
       "      <th>mean</th>\n",
       "      <td>0.500000</td>\n",
       "      <td>11.601543</td>\n",
       "      <td>22.352042</td>\n",
       "      <td>35.305296</td>\n",
       "      <td>2.561086</td>\n",
       "      <td>1.108443</td>\n",
       "      <td>3.734419</td>\n",
       "      <td>1.094629</td>\n",
       "      <td>0.019573</td>\n",
       "      <td>0.225195</td>\n",
       "      <td>0.553107</td>\n",
       "      <td>7.970553</td>\n",
       "      <td>68.975000</td>\n",
       "      <td>0.196852</td>\n",
       "      <td>42.108333</td>\n",
       "      <td>0.558333</td>\n",
       "      <td>0.0</td>\n",
       "      <td>0.008333</td>\n",
       "    </tr>\n",
       "    <tr>\n",
       "      <th>std</th>\n",
       "      <td>0.502096</td>\n",
       "      <td>20.805835</td>\n",
       "      <td>34.737320</td>\n",
       "      <td>55.940667</td>\n",
       "      <td>2.398264</td>\n",
       "      <td>1.858343</td>\n",
       "      <td>4.158435</td>\n",
       "      <td>0.434658</td>\n",
       "      <td>0.014862</td>\n",
       "      <td>0.164737</td>\n",
       "      <td>0.074079</td>\n",
       "      <td>1.463056</td>\n",
       "      <td>63.575332</td>\n",
       "      <td>0.164017</td>\n",
       "      <td>46.813019</td>\n",
       "      <td>0.498668</td>\n",
       "      <td>0.0</td>\n",
       "      <td>0.091287</td>\n",
       "    </tr>\n",
       "    <tr>\n",
       "      <th>min</th>\n",
       "      <td>0.000000</td>\n",
       "      <td>0.050000</td>\n",
       "      <td>0.144340</td>\n",
       "      <td>0.828771</td>\n",
       "      <td>0.600113</td>\n",
       "      <td>0.000000</td>\n",
       "      <td>1.032677</td>\n",
       "      <td>0.231122</td>\n",
       "      <td>-0.011021</td>\n",
       "      <td>0.000232</td>\n",
       "      <td>0.397138</td>\n",
       "      <td>4.828283</td>\n",
       "      <td>17.000000</td>\n",
       "      <td>0.000000</td>\n",
       "      <td>9.000000</td>\n",
       "      <td>0.000000</td>\n",
       "      <td>0.0</td>\n",
       "      <td>0.000000</td>\n",
       "    </tr>\n",
       "    <tr>\n",
       "      <th>25%</th>\n",
       "      <td>0.000000</td>\n",
       "      <td>0.446002</td>\n",
       "      <td>1.191642</td>\n",
       "      <td>3.868498</td>\n",
       "      <td>1.072864</td>\n",
       "      <td>0.000000</td>\n",
       "      <td>1.641530</td>\n",
       "      <td>0.780260</td>\n",
       "      <td>0.012457</td>\n",
       "      <td>0.105089</td>\n",
       "      <td>0.508446</td>\n",
       "      <td>7.047885</td>\n",
       "      <td>31.000000</td>\n",
       "      <td>0.066667</td>\n",
       "      <td>20.000000</td>\n",
       "      <td>0.000000</td>\n",
       "      <td>0.0</td>\n",
       "      <td>0.000000</td>\n",
       "    </tr>\n",
       "    <tr>\n",
       "      <th>50%</th>\n",
       "      <td>0.500000</td>\n",
       "      <td>1.947533</td>\n",
       "      <td>8.414937</td>\n",
       "      <td>13.102296</td>\n",
       "      <td>1.763428</td>\n",
       "      <td>0.000000</td>\n",
       "      <td>2.533423</td>\n",
       "      <td>1.080386</td>\n",
       "      <td>0.018017</td>\n",
       "      <td>0.186513</td>\n",
       "      <td>0.553823</td>\n",
       "      <td>7.840336</td>\n",
       "      <td>48.500000</td>\n",
       "      <td>0.166667</td>\n",
       "      <td>29.000000</td>\n",
       "      <td>1.000000</td>\n",
       "      <td>0.0</td>\n",
       "      <td>0.000000</td>\n",
       "    </tr>\n",
       "    <tr>\n",
       "      <th>75%</th>\n",
       "      <td>1.000000</td>\n",
       "      <td>12.843544</td>\n",
       "      <td>25.321250</td>\n",
       "      <td>42.763659</td>\n",
       "      <td>2.847259</td>\n",
       "      <td>2.002028</td>\n",
       "      <td>4.293914</td>\n",
       "      <td>1.402924</td>\n",
       "      <td>0.026338</td>\n",
       "      <td>0.322040</td>\n",
       "      <td>0.600444</td>\n",
       "      <td>8.775198</td>\n",
       "      <td>82.000000</td>\n",
       "      <td>0.288889</td>\n",
       "      <td>47.000000</td>\n",
       "      <td>1.000000</td>\n",
       "      <td>0.0</td>\n",
       "      <td>0.000000</td>\n",
       "    </tr>\n",
       "    <tr>\n",
       "      <th>max</th>\n",
       "      <td>1.000000</td>\n",
       "      <td>120.883937</td>\n",
       "      <td>171.626278</td>\n",
       "      <td>403.661007</td>\n",
       "      <td>16.582377</td>\n",
       "      <td>7.978723</td>\n",
       "      <td>35.129398</td>\n",
       "      <td>2.441123</td>\n",
       "      <td>0.072240</td>\n",
       "      <td>0.798556</td>\n",
       "      <td>0.855611</td>\n",
       "      <td>15.419355</td>\n",
       "      <td>500.000000</td>\n",
       "      <td>0.822222</td>\n",
       "      <td>433.000000</td>\n",
       "      <td>1.000000</td>\n",
       "      <td>0.0</td>\n",
       "      <td>1.000000</td>\n",
       "    </tr>\n",
       "  </tbody>\n",
       "</table>\n",
       "</div>"
      ],
      "text/plain": [
       "               0           1           2           3           4           5   \\\n",
       "count  120.000000  120.000000  120.000000  120.000000  120.000000  120.000000   \n",
       "mean     0.500000   11.601543   22.352042   35.305296    2.561086    1.108443   \n",
       "std      0.502096   20.805835   34.737320   55.940667    2.398264    1.858343   \n",
       "min      0.000000    0.050000    0.144340    0.828771    0.600113    0.000000   \n",
       "25%      0.000000    0.446002    1.191642    3.868498    1.072864    0.000000   \n",
       "50%      0.500000    1.947533    8.414937   13.102296    1.763428    0.000000   \n",
       "75%      1.000000   12.843544   25.321250   42.763659    2.847259    2.002028   \n",
       "max      1.000000  120.883937  171.626278  403.661007   16.582377    7.978723   \n",
       "\n",
       "               6           7           8           9           10          11  \\\n",
       "count  120.000000  120.000000  120.000000  120.000000  120.000000  120.000000   \n",
       "mean     3.734419    1.094629    0.019573    0.225195    0.553107    7.970553   \n",
       "std      4.158435    0.434658    0.014862    0.164737    0.074079    1.463056   \n",
       "min      1.032677    0.231122   -0.011021    0.000232    0.397138    4.828283   \n",
       "25%      1.641530    0.780260    0.012457    0.105089    0.508446    7.047885   \n",
       "50%      2.533423    1.080386    0.018017    0.186513    0.553823    7.840336   \n",
       "75%      4.293914    1.402924    0.026338    0.322040    0.600444    8.775198   \n",
       "max     35.129398    2.441123    0.072240    0.798556    0.855611   15.419355   \n",
       "\n",
       "               12          13          14          15     16          17  \n",
       "count  120.000000  120.000000  120.000000  120.000000  120.0  120.000000  \n",
       "mean    68.975000    0.196852   42.108333    0.558333    0.0    0.008333  \n",
       "std     63.575332    0.164017   46.813019    0.498668    0.0    0.091287  \n",
       "min     17.000000    0.000000    9.000000    0.000000    0.0    0.000000  \n",
       "25%     31.000000    0.066667   20.000000    0.000000    0.0    0.000000  \n",
       "50%     48.500000    0.166667   29.000000    1.000000    0.0    0.000000  \n",
       "75%     82.000000    0.288889   47.000000    1.000000    0.0    0.000000  \n",
       "max    500.000000    0.822222  433.000000    1.000000    0.0    1.000000  "
      ]
     },
     "execution_count": 3,
     "metadata": {},
     "output_type": "execute_result"
    }
   ],
   "source": [
    "# describe the data\n",
    "data.describe()"
   ]
  },
  {
   "cell_type": "code",
   "execution_count": 4,
   "metadata": {
    "collapsed": false
   },
   "outputs": [
    {
     "name": "stdout",
     "output_type": "stream",
     "text": [
      "(120, 17) (120,)\n"
     ]
    }
   ],
   "source": [
    "# splitting the X and y \n",
    "X = data.iloc[:, 1:]\n",
    "y = data.iloc[:, 0]\n",
    "\n",
    "print(X.shape, y.shape)"
   ]
  },
  {
   "cell_type": "code",
   "execution_count": 5,
   "metadata": {
    "collapsed": false
   },
   "outputs": [],
   "source": [
    "# instantiate KFold\n",
    "kf = KFold(n_splits=10, random_state=0)"
   ]
  },
  {
   "cell_type": "code",
   "execution_count": null,
   "metadata": {
    "collapsed": false
   },
   "outputs": [],
   "source": [
    "for k, (train, test) in enumerate(kf.split(X, y)):\n",
    "    print(train, test)\n",
    "    #print(X.iloc[train, :])"
   ]
  },
  {
   "cell_type": "code",
   "execution_count": 6,
   "metadata": {
    "collapsed": false
   },
   "outputs": [
    {
     "name": "stdout",
     "output_type": "stream",
     "text": [
      "[ 1.          1.          0.91666667  0.75        0.58333333  0.58333333\n",
      "  0.33333333  0.58333333  0.5         1.        ]\n",
      "0.725\n"
     ]
    }
   ],
   "source": [
    "# implementing the naive_bayes algorithm \n",
    "clf_naive = BernoulliNB()\n",
    "\n",
    "scores = np.empty(10)\n",
    "for k, (train, test) in enumerate(kf.split(X, y)):\n",
    "    clf_naive.fit(X.iloc[train], y[train])\n",
    "    y_pred = clf_naive.predict(X.iloc[test])\n",
    "    scores[k] = accuracy_score(y[test], y_pred)\n",
    "    \n",
    "print(scores)\n",
    "print(np.mean(scores))\n",
    "\n",
    "#print(precision_score(y_pred=))"
   ]
  },
  {
   "cell_type": "code",
   "execution_count": 15,
   "metadata": {
    "collapsed": false
   },
   "outputs": [
    {
     "name": "stdout",
     "output_type": "stream",
     "text": [
      "0.708333333333\n",
      "0.5\n"
     ]
    }
   ],
   "source": [
    "# implementing the naive_bayes algorithm \n",
    "clf_tree = RandomForestClassifier()\n",
    "\n",
    "accuracy_scores = np.empty(10)\n",
    "precision_scores = np.empty(10)\n",
    "recall_scores = np.empty(10)\n",
    "\n",
    "for k, (train, test) in enumerate(kf.split(X, y)):\n",
    "    \n",
    "    X_train = X.iloc[train]\n",
    "    X_test = X.iloc[test]\n",
    "    y_train = y[train]\n",
    "    y_test = y[test]\n",
    "    \n",
    "    #clf_tree.fit(X_train, y_train)\n",
    "    #y_pred = clf_tree.predict(X_test)\n",
    "    y_pred = cross_val_predict(X=X_train, y=y_train, cv=kf, es)\n",
    "    clf_tree.predict(X_test)\n",
    "        \n",
    "    accuracy_scores[k] = accuracy_score(y_test, y_pred)\n",
    "    precision_scores[k] = precision_score(y_test, y_pred)\n",
    "    #recall_scores[k] = recall_score(y_true=y_test, y_pred=y_pred, average='binary')\n",
    "    #print(recall_score(y_test, y_pred))\n",
    "\n",
    "    \n",
    "#print(accuracy_scores)\n",
    "print(np.mean(accuracy_scores))\n",
    "print(np.mean(precision_scores))\n",
    "#print(np.mean(recall_scores))\n",
    "\n",
    "#y_pred = clf_tree.predict(X)\n",
    "#print(accuracy_score(y, y_pred))\n",
    "#print(precision_score(y, y_pred))\n",
    "#print(recall_score(y, y_pred))\n"
   ]
  },
  {
   "cell_type": "code",
   "execution_count": null,
   "metadata": {
    "collapsed": false
   },
   "outputs": [],
   "source": [
    "# implementing the naive_bayes algorithm \n",
    "clf_ada = AdaBoostClassifier()\n",
    "\n",
    "scores = np.empty(10)\n",
    "for k, (train, test) in enumerate(kf.split(X, y)):\n",
    "    clf_ada.fit(X.iloc[train], y[train])\n",
    "    y_pred = clf_ada.predict(X.iloc[test])\n",
    "    scores[k] = accuracy_score(y[test], y_pred)\n",
    "print(scores)\n",
    "\n",
    "print(np.mean(scores))"
   ]
  },
  {
   "cell_type": "code",
   "execution_count": null,
   "metadata": {
    "collapsed": false
   },
   "outputs": [],
   "source": [
    "# implementing the naive_bayes algorithm \n",
    "clf_svc = SVC(kernel='linear', C=1)\n",
    "\n",
    "scores = np.empty(10)\n",
    "for k, (train, test) in enumerate(kf.split(X, y)):\n",
    "    clf_svc.fit(X.iloc[train], y[train])\n",
    "    y_pred = clf_svc.predict(X.iloc[test])\n",
    "    scores[k] = accuracy_score(y[test], y_pred)\n",
    "print(scores)\n",
    "print(np.mean(scores))"
   ]
  },
  {
   "cell_type": "markdown",
   "metadata": {},
   "source": [
    "-----------------------"
   ]
  },
  {
   "cell_type": "code",
   "execution_count": 26,
   "metadata": {
    "collapsed": false
   },
   "outputs": [
    {
     "name": "stdout",
     "output_type": "stream",
     "text": [
      "0.658333333333\n",
      "0.666666666667\n",
      "0.633333333333\n"
     ]
    }
   ],
   "source": [
    "# implementing the naive_bayes algorithm \n",
    "clf_tree = RandomForestClassifier()\n",
    "\n",
    "y_pred = cross_val_predict(clf_tree, X, y, cv=kf, n_jobs=10)\n",
    "print(accuracy_score(y, y_pred))\n",
    "print(precision_score(y, y_pred))\n",
    "print(recall_score(y, y_pred))"
   ]
  },
  {
   "cell_type": "code",
   "execution_count": 25,
   "metadata": {
    "collapsed": false
   },
   "outputs": [
    {
     "name": "stdout",
     "output_type": "stream",
     "text": [
      "0.516666666667\n",
      "0.515625\n",
      "0.55\n"
     ]
    }
   ],
   "source": [
    "# implementing the naive_bayes algorithm \n",
    "clf_svc = SVC(kernel='linear', C=1)\n",
    "\n",
    "y_pred = cross_val_predict(clf_svc, X, y, cv=kf, n_jobs=10)\n",
    "print(accuracy_score(y, y_pred))\n",
    "print(precision_score(y, y_pred))\n",
    "print(recall_score(y, y_pred))"
   ]
  },
  {
   "cell_type": "code",
   "execution_count": 30,
   "metadata": {
    "collapsed": false
   },
   "outputs": [
    {
     "name": "stdout",
     "output_type": "stream",
     "text": [
      "0.683333333333\n",
      "0.729166666667\n",
      "0.583333333333\n"
     ]
    }
   ],
   "source": [
    "# implementing the naive_bayes algorithm \n",
    "clf_ada = AdaBoostClassifier(base_estimator=clf_tree, algorithm='SAMME')\n",
    "\n",
    "y_pred = cross_val_predict(clf_ada, X, y, cv=kf, n_jobs=10)\n",
    "print(accuracy_score(y, y_pred))\n",
    "print(precision_score(y, y_pred))\n",
    "print(recall_score(y, y_pred))"
   ]
  },
  {
   "cell_type": "code",
   "execution_count": 23,
   "metadata": {
    "collapsed": false
   },
   "outputs": [
    {
     "name": "stdout",
     "output_type": "stream",
     "text": [
      "0.725\n",
      "0.68\n",
      "0.85\n"
     ]
    }
   ],
   "source": [
    "# implementing the naive_bayes algorithm \n",
    "clf_naive = GaussianNB()\n",
    "\n",
    "y_pred = cross_val_predict(clf_naive, X, y, cv=kf, n_jobs=10)\n",
    "print(accuracy_score(y, y_pred))\n",
    "print(precision_score(y, y_pred))\n",
    "print(recall_score(y, y_pred))"
   ]
  },
  {
   "cell_type": "code",
   "execution_count": null,
   "metadata": {
    "collapsed": true
   },
   "outputs": [],
   "source": []
  }
 ],
 "metadata": {
  "anaconda-cloud": {},
  "kernelspec": {
   "display_name": "Python [conda root]",
   "language": "python",
   "name": "conda-root-py"
  },
  "language_info": {
   "codemirror_mode": {
    "name": "ipython",
    "version": 3
   },
   "file_extension": ".py",
   "mimetype": "text/x-python",
   "name": "python",
   "nbconvert_exporter": "python",
   "pygments_lexer": "ipython3",
   "version": "3.5.2"
  }
 },
 "nbformat": 4,
 "nbformat_minor": 1
}
